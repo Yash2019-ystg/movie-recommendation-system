{
  "nbformat": 4,
  "nbformat_minor": 0,
  "metadata": {
    "colab": {
      "name": "movie_recommendation_main.ipynb",
      "provenance": [],
      "collapsed_sections": [],
      "authorship_tag": "ABX9TyOAUys3lbtJlBlh0FhikY1M",
      "include_colab_link": true
    },
    "kernelspec": {
      "name": "python3",
      "display_name": "Python 3"
    }
  },
  "cells": [
    {
      "cell_type": "markdown",
      "metadata": {
        "id": "view-in-github",
        "colab_type": "text"
      },
      "source": [
        "<a href=\"https://colab.research.google.com/github/Yash2019-ystg/movie-recommendation-system/blob/main/movie_recommendation_main.ipynb\" target=\"_parent\"><img src=\"https://colab.research.google.com/assets/colab-badge.svg\" alt=\"Open In Colab\"/></a>"
      ]
    },
    {
      "cell_type": "code",
      "metadata": {
        "colab": {
          "resources": {
            "http://localhost:8080/nbextensions/google.colab/files.js": {
              "data": "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",
              "ok": true,
              "headers": [
                [
                  "content-type",
                  "application/javascript"
                ]
              ],
              "status": 200,
              "status_text": ""
            }
          },
          "base_uri": "https://localhost:8080/",
          "height": 73
        },
        "id": "ciBV0yW3XSYs",
        "outputId": "29b459bc-88df-41ab-8a2d-946dade27fe6"
      },
      "source": [
        "from google.colab import files                     #uploading cse file \n",
        "uploaded = files.upload()"
      ],
      "execution_count": null,
      "outputs": [
        {
          "output_type": "display_data",
          "data": {
            "text/html": [
              "\n",
              "     <input type=\"file\" id=\"files-3ba821d8-7325-4dd2-b57e-0ac401eb4771\" name=\"files[]\" multiple disabled\n",
              "        style=\"border:none\" />\n",
              "     <output id=\"result-3ba821d8-7325-4dd2-b57e-0ac401eb4771\">\n",
              "      Upload widget is only available when the cell has been executed in the\n",
              "      current browser session. Please rerun this cell to enable.\n",
              "      </output>\n",
              "      <script src=\"/nbextensions/google.colab/files.js\"></script> "
            ],
            "text/plain": [
              "<IPython.core.display.HTML object>"
            ]
          },
          "metadata": {
            "tags": []
          }
        },
        {
          "output_type": "stream",
          "text": [
            "Saving new_movie_metadata.csv to new_movie_metadata.csv\n"
          ],
          "name": "stdout"
        }
      ]
    },
    {
      "cell_type": "code",
      "metadata": {
        "colab": {
          "base_uri": "https://localhost:8080/",
          "height": 978
        },
        "id": "TwfGd_srYJJ3",
        "outputId": "e9f976fb-3667-4b02-a6f2-8e0c05055847"
      },
      "source": [
        "import io\n",
        "import pandas as pd\n",
        "import numpy as np\n",
        "df = pd.read_csv(io.BytesIO(uploaded['new_movie_metadata.csv']))\n",
        "df.head(20)\n",
        "df.pop(\t\"Unnamed: 0\")\n",
        "df.head(20)"
      ],
      "execution_count": null,
      "outputs": [
        {
          "output_type": "execute_result",
          "data": {
            "text/html": [
              "<div>\n",
              "<style scoped>\n",
              "    .dataframe tbody tr th:only-of-type {\n",
              "        vertical-align: middle;\n",
              "    }\n",
              "\n",
              "    .dataframe tbody tr th {\n",
              "        vertical-align: top;\n",
              "    }\n",
              "\n",
              "    .dataframe thead th {\n",
              "        text-align: right;\n",
              "    }\n",
              "</style>\n",
              "<table border=\"1\" class=\"dataframe\">\n",
              "  <thead>\n",
              "    <tr style=\"text-align: right;\">\n",
              "      <th></th>\n",
              "      <th>director_name</th>\n",
              "      <th>actor_1_name</th>\n",
              "      <th>actor_2_name</th>\n",
              "      <th>actor_3_name</th>\n",
              "      <th>genres</th>\n",
              "      <th>movie_title</th>\n",
              "      <th>imdb_score</th>\n",
              "      <th>combine</th>\n",
              "    </tr>\n",
              "  </thead>\n",
              "  <tbody>\n",
              "    <tr>\n",
              "      <th>0</th>\n",
              "      <td>John Blanchard</td>\n",
              "      <td>Martin Short</td>\n",
              "      <td>Andrea Martin</td>\n",
              "      <td>Joe Flaherty</td>\n",
              "      <td>Comedy</td>\n",
              "      <td>towering inferno</td>\n",
              "      <td>9.5</td>\n",
              "      <td>John Blanchard Martin Short Andrea Martin Joe ...</td>\n",
              "    </tr>\n",
              "    <tr>\n",
              "      <th>1</th>\n",
              "      <td>Frank Darabont</td>\n",
              "      <td>Morgan Freeman</td>\n",
              "      <td>Jeffrey DeMunn</td>\n",
              "      <td>Bob Gunton</td>\n",
              "      <td>Crime Drama</td>\n",
              "      <td>the shawshank redemption</td>\n",
              "      <td>9.3</td>\n",
              "      <td>Frank Darabont Morgan Freeman Jeffrey DeMunn B...</td>\n",
              "    </tr>\n",
              "    <tr>\n",
              "      <th>2</th>\n",
              "      <td>Francis Ford Coppola</td>\n",
              "      <td>Al Pacino</td>\n",
              "      <td>Marlon Brando</td>\n",
              "      <td>Robert Duvall</td>\n",
              "      <td>Crime Drama</td>\n",
              "      <td>the godfather</td>\n",
              "      <td>9.2</td>\n",
              "      <td>Francis Ford Coppola Al Pacino Marlon Brando R...</td>\n",
              "    </tr>\n",
              "    <tr>\n",
              "      <th>3</th>\n",
              "      <td>John Stockwell</td>\n",
              "      <td>Matthew Ziff</td>\n",
              "      <td>T.J. Storm</td>\n",
              "      <td>Sam Medina</td>\n",
              "      <td>Action</td>\n",
              "      <td>kickboxer: vengeance</td>\n",
              "      <td>9.1</td>\n",
              "      <td>John Stockwell Matthew Ziff T.J. Storm Sam Med...</td>\n",
              "    </tr>\n",
              "    <tr>\n",
              "      <th>4</th>\n",
              "      <td>unknown</td>\n",
              "      <td>Krystyna Janda</td>\n",
              "      <td>Olaf Lubaszenko</td>\n",
              "      <td>Olgierd Lukaszewicz</td>\n",
              "      <td>Drama</td>\n",
              "      <td>dekalog</td>\n",
              "      <td>9.1</td>\n",
              "      <td>unknown Krystyna Janda Olaf Lubaszenko Olgierd...</td>\n",
              "    </tr>\n",
              "    <tr>\n",
              "      <th>5</th>\n",
              "      <td>unknown</td>\n",
              "      <td>Krystyna Janda</td>\n",
              "      <td>Olaf Lubaszenko</td>\n",
              "      <td>Olgierd Lukaszewicz</td>\n",
              "      <td>Drama</td>\n",
              "      <td>dekalog</td>\n",
              "      <td>9.1</td>\n",
              "      <td>unknown Krystyna Janda Olaf Lubaszenko Olgierd...</td>\n",
              "    </tr>\n",
              "    <tr>\n",
              "      <th>6</th>\n",
              "      <td>Christopher Nolan</td>\n",
              "      <td>Christian Bale</td>\n",
              "      <td>Heath Ledger</td>\n",
              "      <td>Morgan Freeman</td>\n",
              "      <td>Action Crime Drama Thriller</td>\n",
              "      <td>the dark knight</td>\n",
              "      <td>9.0</td>\n",
              "      <td>Christopher Nolan Christian Bale Heath Ledger ...</td>\n",
              "    </tr>\n",
              "    <tr>\n",
              "      <th>7</th>\n",
              "      <td>Francis Ford Coppola</td>\n",
              "      <td>Robert De Niro</td>\n",
              "      <td>Al Pacino</td>\n",
              "      <td>Robert Duvall</td>\n",
              "      <td>Crime Drama</td>\n",
              "      <td>the godfather: part ii</td>\n",
              "      <td>9.0</td>\n",
              "      <td>Francis Ford Coppola Robert De Niro Al Pacino ...</td>\n",
              "    </tr>\n",
              "    <tr>\n",
              "      <th>8</th>\n",
              "      <td>unknown</td>\n",
              "      <td>Kirsten Dunst</td>\n",
              "      <td>Adam Goldberg</td>\n",
              "      <td>Oliver Platt</td>\n",
              "      <td>Crime Drama Thriller</td>\n",
              "      <td>fargo</td>\n",
              "      <td>9.0</td>\n",
              "      <td>unknown Kirsten Dunst Adam Goldberg Oliver Pla...</td>\n",
              "    </tr>\n",
              "    <tr>\n",
              "      <th>9</th>\n",
              "      <td>Peter Jackson</td>\n",
              "      <td>Orlando Bloom</td>\n",
              "      <td>Billy Boyd</td>\n",
              "      <td>Bernard Hill</td>\n",
              "      <td>Action Adventure Drama Fantasy</td>\n",
              "      <td>the lord of the rings: the return of the king</td>\n",
              "      <td>8.9</td>\n",
              "      <td>Peter Jackson Orlando Bloom Billy Boyd Bernard...</td>\n",
              "    </tr>\n",
              "    <tr>\n",
              "      <th>10</th>\n",
              "      <td>Sidney Lumet</td>\n",
              "      <td>Jack Warden</td>\n",
              "      <td>Lee J. Cobb</td>\n",
              "      <td>John Fiedler</td>\n",
              "      <td>Crime Drama</td>\n",
              "      <td>12 angry men</td>\n",
              "      <td>8.9</td>\n",
              "      <td>Sidney Lumet Jack Warden Lee J. Cobb John Fied...</td>\n",
              "    </tr>\n",
              "    <tr>\n",
              "      <th>11</th>\n",
              "      <td>Sergio Leone</td>\n",
              "      <td>Clint Eastwood</td>\n",
              "      <td>Luigi Pistilli</td>\n",
              "      <td>Enzo Petito</td>\n",
              "      <td>Western</td>\n",
              "      <td>the good, the bad and the ugly</td>\n",
              "      <td>8.9</td>\n",
              "      <td>Sergio Leone Clint Eastwood Luigi Pistilli Enz...</td>\n",
              "    </tr>\n",
              "    <tr>\n",
              "      <th>12</th>\n",
              "      <td>Quentin Tarantino</td>\n",
              "      <td>Bruce Willis</td>\n",
              "      <td>Eric Stoltz</td>\n",
              "      <td>Phil LaMarr</td>\n",
              "      <td>Crime Drama</td>\n",
              "      <td>pulp fiction</td>\n",
              "      <td>8.9</td>\n",
              "      <td>Quentin Tarantino Bruce Willis Eric Stoltz Phi...</td>\n",
              "    </tr>\n",
              "    <tr>\n",
              "      <th>13</th>\n",
              "      <td>Steven Spielberg</td>\n",
              "      <td>Liam Neeson</td>\n",
              "      <td>Embeth Davidtz</td>\n",
              "      <td>Caroline Goodall</td>\n",
              "      <td>Biography Drama History</td>\n",
              "      <td>schindler's list</td>\n",
              "      <td>8.9</td>\n",
              "      <td>Steven Spielberg Liam Neeson Embeth Davidtz Ca...</td>\n",
              "    </tr>\n",
              "    <tr>\n",
              "      <th>14</th>\n",
              "      <td>David Fincher</td>\n",
              "      <td>Brad Pitt</td>\n",
              "      <td>Meat Loaf</td>\n",
              "      <td>Eugenie Bondurant</td>\n",
              "      <td>Drama</td>\n",
              "      <td>fight club</td>\n",
              "      <td>8.8</td>\n",
              "      <td>David Fincher Brad Pitt Meat Loaf Eugenie Bond...</td>\n",
              "    </tr>\n",
              "    <tr>\n",
              "      <th>15</th>\n",
              "      <td>Robert Zemeckis</td>\n",
              "      <td>Tom Hanks</td>\n",
              "      <td>Siobhan Fallon Hogan</td>\n",
              "      <td>Sam Anderson</td>\n",
              "      <td>Comedy Drama</td>\n",
              "      <td>forrest gump</td>\n",
              "      <td>8.8</td>\n",
              "      <td>Robert Zemeckis Tom Hanks Siobhan Fallon Hogan...</td>\n",
              "    </tr>\n",
              "    <tr>\n",
              "      <th>16</th>\n",
              "      <td>Peter Jackson</td>\n",
              "      <td>Christopher Lee</td>\n",
              "      <td>Orlando Bloom</td>\n",
              "      <td>Billy Boyd</td>\n",
              "      <td>Action Adventure Drama Fantasy</td>\n",
              "      <td>the lord of the rings: the fellowship of the ring</td>\n",
              "      <td>8.8</td>\n",
              "      <td>Peter Jackson Christopher Lee Orlando Bloom Bi...</td>\n",
              "    </tr>\n",
              "    <tr>\n",
              "      <th>17</th>\n",
              "      <td>Irvin Kershner</td>\n",
              "      <td>Harrison Ford</td>\n",
              "      <td>Kenny Baker</td>\n",
              "      <td>Anthony Daniels</td>\n",
              "      <td>Action Adventure Fantasy Sci-Fi</td>\n",
              "      <td>star wars: episode v - the empire strikes back</td>\n",
              "      <td>8.8</td>\n",
              "      <td>Irvin Kershner Harrison Ford Kenny Baker Antho...</td>\n",
              "    </tr>\n",
              "    <tr>\n",
              "      <th>18</th>\n",
              "      <td>Christopher Nolan</td>\n",
              "      <td>Leonardo DiCaprio</td>\n",
              "      <td>Tom Hardy</td>\n",
              "      <td>Joseph Gordon-Levitt</td>\n",
              "      <td>Action Adventure Sci-Fi Thriller</td>\n",
              "      <td>inception</td>\n",
              "      <td>8.8</td>\n",
              "      <td>Christopher Nolan Leonardo DiCaprio Tom Hardy ...</td>\n",
              "    </tr>\n",
              "    <tr>\n",
              "      <th>19</th>\n",
              "      <td>unknown</td>\n",
              "      <td>Rob McElhenney</td>\n",
              "      <td>Kaitlin Olson</td>\n",
              "      <td>Glenn Howerton</td>\n",
              "      <td>Comedy</td>\n",
              "      <td>it's always sunny in philadelphia</td>\n",
              "      <td>8.8</td>\n",
              "      <td>unknown Rob McElhenney Kaitlin Olson Glenn How...</td>\n",
              "    </tr>\n",
              "  </tbody>\n",
              "</table>\n",
              "</div>"
            ],
            "text/plain": [
              "           director_name  ...                                            combine\n",
              "0         John Blanchard  ...  John Blanchard Martin Short Andrea Martin Joe ...\n",
              "1         Frank Darabont  ...  Frank Darabont Morgan Freeman Jeffrey DeMunn B...\n",
              "2   Francis Ford Coppola  ...  Francis Ford Coppola Al Pacino Marlon Brando R...\n",
              "3         John Stockwell  ...  John Stockwell Matthew Ziff T.J. Storm Sam Med...\n",
              "4                unknown  ...  unknown Krystyna Janda Olaf Lubaszenko Olgierd...\n",
              "5                unknown  ...  unknown Krystyna Janda Olaf Lubaszenko Olgierd...\n",
              "6      Christopher Nolan  ...  Christopher Nolan Christian Bale Heath Ledger ...\n",
              "7   Francis Ford Coppola  ...  Francis Ford Coppola Robert De Niro Al Pacino ...\n",
              "8                unknown  ...  unknown Kirsten Dunst Adam Goldberg Oliver Pla...\n",
              "9          Peter Jackson  ...  Peter Jackson Orlando Bloom Billy Boyd Bernard...\n",
              "10          Sidney Lumet  ...  Sidney Lumet Jack Warden Lee J. Cobb John Fied...\n",
              "11          Sergio Leone  ...  Sergio Leone Clint Eastwood Luigi Pistilli Enz...\n",
              "12     Quentin Tarantino  ...  Quentin Tarantino Bruce Willis Eric Stoltz Phi...\n",
              "13      Steven Spielberg  ...  Steven Spielberg Liam Neeson Embeth Davidtz Ca...\n",
              "14         David Fincher  ...  David Fincher Brad Pitt Meat Loaf Eugenie Bond...\n",
              "15       Robert Zemeckis  ...  Robert Zemeckis Tom Hanks Siobhan Fallon Hogan...\n",
              "16         Peter Jackson  ...  Peter Jackson Christopher Lee Orlando Bloom Bi...\n",
              "17        Irvin Kershner  ...  Irvin Kershner Harrison Ford Kenny Baker Antho...\n",
              "18     Christopher Nolan  ...  Christopher Nolan Leonardo DiCaprio Tom Hardy ...\n",
              "19               unknown  ...  unknown Rob McElhenney Kaitlin Olson Glenn How...\n",
              "\n",
              "[20 rows x 8 columns]"
            ]
          },
          "metadata": {
            "tags": []
          },
          "execution_count": 43
        }
      ]
    },
    {
      "cell_type": "code",
      "metadata": {
        "colab": {
          "base_uri": "https://localhost:8080/"
        },
        "id": "a7jQTZsNz76h",
        "outputId": "dc032d78-c1e1-4a9d-9761-09b13a80b86b"
      },
      "source": [
        "df['imdb_score'] = df['imdb_score'].astype(str).str.strip()\r\n",
        "type(df['imdb_score'][0])"
      ],
      "execution_count": null,
      "outputs": [
        {
          "output_type": "execute_result",
          "data": {
            "text/plain": [
              "str"
            ]
          },
          "metadata": {
            "tags": []
          },
          "execution_count": 44
        }
      ]
    },
    {
      "cell_type": "code",
      "metadata": {
        "id": "w8PAP9Z8YkH-",
        "colab": {
          "base_uri": "https://localhost:8080/",
          "height": 35
        },
        "outputId": "3a28c31b-56ac-42b2-acb8-0c9d5c38ab14"
      },
      "source": [
        "df['movie_title'] = df['movie_title'].str.strip()  #some dataprocessing to remove the whitespaces\n",
        "df['combine'] = df['combine'].str.strip()\n",
        "df['combine'] = df['combine']+' '+df['imdb_score']\n",
        "df['combine'][0]\n"
      ],
      "execution_count": null,
      "outputs": [
        {
          "output_type": "execute_result",
          "data": {
            "application/vnd.google.colaboratory.intrinsic+json": {
              "type": "string"
            },
            "text/plain": [
              "'John Blanchard Martin Short Andrea Martin Joe Flaherty Comedy towering inferno 9.5'"
            ]
          },
          "metadata": {
            "tags": []
          },
          "execution_count": 45
        }
      ]
    },
    {
      "cell_type": "code",
      "metadata": {
        "id": "xaL501QmY5A3"
      },
      "source": [
        "#com= df.pivot_table(index=None,columns='movie_title',aggfunc='first',values='combine')\n",
        "#com"
      ],
      "execution_count": null,
      "outputs": []
    },
    {
      "cell_type": "code",
      "metadata": {
        "id": "6rbw8akmLP7u"
      },
      "source": [
        "#sim_com = com.corrwith(com['zombieland'])\n",
        "#sim_com"
      ],
      "execution_count": null,
      "outputs": []
    },
    {
      "cell_type": "code",
      "metadata": {
        "id": "pAgtSGeBL_jV"
      },
      "source": [
        "#corr_com = pd.DataFrame(sim_com,columns = ['correlation'])\n",
        "#corr_com.head()"
      ],
      "execution_count": null,
      "outputs": []
    },
    {
      "cell_type": "code",
      "metadata": {
        "id": "Bh4lli1kNtWo",
        "colab": {
          "base_uri": "https://localhost:8080/"
        },
        "outputId": "6c6fb195-a097-4e32-c4cf-13902fadbb81"
      },
      "source": [
        "from sklearn.feature_extraction.text import CountVectorizer\n",
        "from sklearn.metrics.pairwise import cosine_similarity\n",
        "cv = CountVectorizer()\n",
        "count_matrix = cv.fit_transform(df[\"combine\"])\n",
        "cosine_sim = cosine_similarity(count_matrix)     #used for checking simililarity between dataset by making vector\n",
        "cosine_sim"
      ],
      "execution_count": null,
      "outputs": [
        {
          "output_type": "execute_result",
          "data": {
            "text/plain": [
              "array([[1.        , 0.        , 0.        , ..., 0.06726728, 0.07412493,\n",
              "        0.        ],\n",
              "       [0.        , 1.        , 0.23076923, ..., 0.06726728, 0.        ,\n",
              "        0.        ],\n",
              "       [0.        , 0.23076923, 1.        , ..., 0.06726728, 0.        ,\n",
              "        0.        ],\n",
              "       ...,\n",
              "       [0.06726728, 0.06726728, 0.06726728, ..., 1.        , 0.19446112,\n",
              "        0.        ],\n",
              "       [0.07412493, 0.        , 0.        , ..., 0.19446112, 1.        ,\n",
              "        0.        ],\n",
              "       [0.        , 0.        , 0.        , ..., 0.        , 0.        ,\n",
              "        1.        ]])"
            ]
          },
          "metadata": {
            "tags": []
          },
          "execution_count": 27
        }
      ]
    },
    {
      "cell_type": "code",
      "metadata": {
        "id": "iV5g-_Q4SEXa",
        "colab": {
          "base_uri": "https://localhost:8080/"
        },
        "outputId": "754b7080-83ec-4c44-a24d-ccd890e84442"
      },
      "source": [
        "a = input('enter a movie').strip()\n",
        "f = df[df.movie_title==a].index.values[0]"
      ],
      "execution_count": null,
      "outputs": [
        {
          "output_type": "stream",
          "text": [
            "enter a moviepulp fiction\t\n"
          ],
          "name": "stdout"
        }
      ]
    },
    {
      "cell_type": "code",
      "metadata": {
        "colab": {
          "base_uri": "https://localhost:8080/",
          "height": 375
        },
        "id": "ZqBKBGUPa2qz",
        "outputId": "280f8aac-5f1c-4274-81ec-bc0821117262"
      },
      "source": [
        "df1 = pd.DataFrame (cosine_sim[f], columns = ['similarity'])\n",
        "k = list(range(0,5043))\n",
        "df1['index'] = k\n",
        "df1=df1.sort_values('similarity',ascending=False,ignore_index=True)\n",
        "df1.head(11)"
      ],
      "execution_count": null,
      "outputs": [
        {
          "output_type": "execute_result",
          "data": {
            "text/html": [
              "<div>\n",
              "<style scoped>\n",
              "    .dataframe tbody tr th:only-of-type {\n",
              "        vertical-align: middle;\n",
              "    }\n",
              "\n",
              "    .dataframe tbody tr th {\n",
              "        vertical-align: top;\n",
              "    }\n",
              "\n",
              "    .dataframe thead th {\n",
              "        text-align: right;\n",
              "    }\n",
              "</style>\n",
              "<table border=\"1\" class=\"dataframe\">\n",
              "  <thead>\n",
              "    <tr style=\"text-align: right;\">\n",
              "      <th></th>\n",
              "      <th>similarity</th>\n",
              "      <th>index</th>\n",
              "    </tr>\n",
              "  </thead>\n",
              "  <tbody>\n",
              "    <tr>\n",
              "      <th>0</th>\n",
              "      <td>1.000000</td>\n",
              "      <td>12</td>\n",
              "    </tr>\n",
              "    <tr>\n",
              "      <th>1</th>\n",
              "      <td>0.420084</td>\n",
              "      <td>76</td>\n",
              "    </tr>\n",
              "    <tr>\n",
              "      <th>2</th>\n",
              "      <td>0.320256</td>\n",
              "      <td>2356</td>\n",
              "    </tr>\n",
              "    <tr>\n",
              "      <th>3</th>\n",
              "      <td>0.308607</td>\n",
              "      <td>2391</td>\n",
              "    </tr>\n",
              "    <tr>\n",
              "      <th>4</th>\n",
              "      <td>0.308607</td>\n",
              "      <td>2633</td>\n",
              "    </tr>\n",
              "    <tr>\n",
              "      <th>5</th>\n",
              "      <td>0.308607</td>\n",
              "      <td>3450</td>\n",
              "    </tr>\n",
              "    <tr>\n",
              "      <th>6</th>\n",
              "      <td>0.308607</td>\n",
              "      <td>3365</td>\n",
              "    </tr>\n",
              "    <tr>\n",
              "      <th>7</th>\n",
              "      <td>0.298142</td>\n",
              "      <td>503</td>\n",
              "    </tr>\n",
              "    <tr>\n",
              "      <th>8</th>\n",
              "      <td>0.298142</td>\n",
              "      <td>426</td>\n",
              "    </tr>\n",
              "    <tr>\n",
              "      <th>9</th>\n",
              "      <td>0.298142</td>\n",
              "      <td>2365</td>\n",
              "    </tr>\n",
              "    <tr>\n",
              "      <th>10</th>\n",
              "      <td>0.288675</td>\n",
              "      <td>971</td>\n",
              "    </tr>\n",
              "  </tbody>\n",
              "</table>\n",
              "</div>"
            ],
            "text/plain": [
              "    similarity  index\n",
              "0     1.000000     12\n",
              "1     0.420084     76\n",
              "2     0.320256   2356\n",
              "3     0.308607   2391\n",
              "4     0.308607   2633\n",
              "5     0.308607   3450\n",
              "6     0.308607   3365\n",
              "7     0.298142    503\n",
              "8     0.298142    426\n",
              "9     0.298142   2365\n",
              "10    0.288675    971"
            ]
          },
          "metadata": {
            "tags": []
          },
          "execution_count": 52
        }
      ]
    },
    {
      "cell_type": "code",
      "metadata": {
        "colab": {
          "base_uri": "https://localhost:8080/"
        },
        "id": "pTs_OneBgPzb",
        "outputId": "8083fbd6-476c-40da-9cf7-5db7a06ef815"
      },
      "source": [
        "l = []\n",
        "for i in range(1,11):\n",
        "  l.append(df1['index'][i])\n",
        "\n",
        "l2 = []\n",
        "for i in l:\n",
        "  l2.append(df['movie_title'][i])\n",
        "\n",
        "\n",
        "for i in l2:\n",
        "  print(i)"
      ],
      "execution_count": null,
      "outputs": [
        {
          "output_type": "stream",
          "text": [
            "reservoir dogs\n",
            "bandits\n",
            "16 blocks\n",
            "killing zoe\n",
            "mercury rising\n",
            "mercury rising\n",
            "lucky number slevin\n",
            "lucky number slevin\n",
            "hostage\n",
            "looper\n"
          ],
          "name": "stdout"
        }
      ]
    },
    {
      "cell_type": "code",
      "metadata": {
        "colab": {
          "base_uri": "https://localhost:8080/"
        },
        "id": "wIDtrTYXyBsb",
        "outputId": "697a35da-2cf4-46cc-9d29-29246f08b085"
      },
      "source": [
        "n = 'fortress'\n",
        "m = df[df.movie_title==n].index.values[0]\n",
        "print(df['genres'][m])\n",
        "print(df['director_name'][m])\n",
        "print(df['actor_1_name'][m])\n",
        "print(df['actor_2_name'][m])\n",
        "print(df['actor_3_name'][m])\n",
        "print(df['imdb_score'][m])\n",
        "print(m)\n"
      ],
      "execution_count": null,
      "outputs": [
        {
          "output_type": "stream",
          "text": [
            "Action Crime Sci-Fi Thriller\n",
            "Stuart Gordon\n",
            "Christopher Lambert\n",
            "Kurtwood Smith\n",
            "Clifton Collins Jr.\n",
            "5.9\n",
            "3652\n"
          ],
          "name": "stdout"
        }
      ]
    },
    {
      "cell_type": "code",
      "metadata": {
        "colab": {
          "base_uri": "https://localhost:8080/"
        },
        "id": "bh5ofwkHyfNS",
        "outputId": "2465f9ea-301b-4d98-89aa-c667b2d2b77f"
      },
      "source": [
        "p = 'inception'\n",
        "q = df[df.movie_title==p].index.values[0]\n",
        "print(df['genres'][q])\n",
        "print(df['director_name'][q])\n",
        "print(df['actor_1_name'][q])\n",
        "print(df['actor_2_name'][q])\n",
        "print(df['actor_3_name'][q])\n",
        "print(df['imdb_score'][q])"
      ],
      "execution_count": null,
      "outputs": [
        {
          "output_type": "stream",
          "text": [
            "Action Adventure Sci-Fi Thriller\n",
            "Christopher Nolan\n",
            "Leonardo DiCaprio\n",
            "Tom Hardy\n",
            "Joseph Gordon-Levitt\n",
            "8.8\n"
          ],
          "name": "stdout"
        }
      ]
    }
  ]
}